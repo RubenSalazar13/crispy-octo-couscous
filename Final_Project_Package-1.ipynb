{
  "nbformat": 4,
  "nbformat_minor": 0,
  "metadata": {
    "colab": {
      "name": "Final_Project_Package.ipynb",
      "provenance": [],
      "collapsed_sections": []
    },
    "kernelspec": {
      "display_name": "Python 3",
      "name": "python3"
    },
    "language_info": {
      "name": "python"
    }
  },
  "cells": [
    {
      "cell_type": "code",
      "metadata": {
        "colab": {
          "base_uri": "https://localhost:8080/"
        },
        "id": "HBoVd2QNfANY",
        "outputId": "6053bd30-cf07-4929-f86a-8be78e3bd830"
      },
      "source": [
        "# Data import\n",
        "import numpy as np\n",
        "import pandas as pd\n",
        "from sklearn import metrics\n",
        "import matplotlib.pyplot as plt\n",
        "import seaborn as sns\n",
        "import datetime\n",
        "import pylab as pl\n",
        "from scipy import stats\n",
        "import warnings\n",
        "warnings.filterwarnings('ignore')\n",
        "from google.colab import drive\n",
        "drive.mount('/content/drive')"
      ],
      "execution_count": null,
      "outputs": [
        {
          "output_type": "stream",
          "name": "stdout",
          "text": [
            "Drive already mounted at /content/drive; to attempt to forcibly remount, call drive.mount(\"/content/drive\", force_remount=True).\n"
          ]
        }
      ]
    },
    {
      "cell_type": "code",
      "source": [
        "Dataframe = pd.read_csv('/content/drive/MyDrive/Colab Notebooks/AAL.csv',encoding = \"ISO-8859-1\")"
      ],
      "metadata": {
        "id": "CWXRw6VJ7L-e"
      },
      "execution_count": null,
      "outputs": []
    },
    {
      "cell_type": "markdown",
      "metadata": {
        "id": "R1b92L7hruaI"
      },
      "source": [
        "### **American Airlines Group Stock Data**\n",
        "Initially, the dataset I picked was vast but had little valuable value to extract any vital information. So, I decided to use the  American Airlines Group Inc., an American publicly traded airline holding company. American Airlines is a respected organization but with little history in this dataset. It was constructed on December 9, 2013, by the parent company of American Airlines, AMR Corporation, and US Airways Group, the founding group of US Airways. The company employs the most extensive airline globally, as estimated by fleet size, passengers carried, and scheduled passenger kilometers flown.\n",
        "Additionally, the corporation rated No. 70 in the Fortune 500 list of the most considerable United States enterprises based on its 2019 income. Nevertheless, the COVID-19 lost $2.2 billion in the first quarter of 2020 and received government aid. Consequently, American Airlines conveys being shrinking its passenger fleet."
      ]
    },
    {
      "cell_type": "code",
      "metadata": {
        "colab": {
          "base_uri": "https://localhost:8080/"
        },
        "id": "7YfjzNhHsPtd",
        "outputId": "f324a9ba-daca-4edb-fda3-ca33d9cdd2ae"
      },
      "source": [
        "# Overall structure of info\n",
        "Dataframe.info()"
      ],
      "execution_count": null,
      "outputs": [
        {
          "output_type": "stream",
          "name": "stdout",
          "text": [
            "<class 'pandas.core.frame.DataFrame'>\n",
            "RangeIndex: 4071 entries, 0 to 4070\n",
            "Data columns (total 7 columns):\n",
            " #   Column     Non-Null Count  Dtype  \n",
            "---  ------     --------------  -----  \n",
            " 0   Date       4071 non-null   object \n",
            " 1   Open       4071 non-null   float64\n",
            " 2   High       4071 non-null   float64\n",
            " 3   Low        4071 non-null   float64\n",
            " 4   Close      4071 non-null   float64\n",
            " 5   Adj Close  4071 non-null   float64\n",
            " 6   Volume     4071 non-null   int64  \n",
            "dtypes: float64(5), int64(1), object(1)\n",
            "memory usage: 222.8+ KB\n"
          ]
        }
      ]
    },
    {
      "cell_type": "code",
      "metadata": {
        "colab": {
          "base_uri": "https://localhost:8080/",
          "height": 297
        },
        "id": "kzdi1hbssnmq",
        "outputId": "44f81168-8ee3-486d-8e9a-aace7546447d"
      },
      "source": [
        "# Overall structure of description\n",
        "Dataframe.describe()"
      ],
      "execution_count": null,
      "outputs": [
        {
          "output_type": "execute_result",
          "data": {
            "text/html": [
              "<div>\n",
              "<style scoped>\n",
              "    .dataframe tbody tr th:only-of-type {\n",
              "        vertical-align: middle;\n",
              "    }\n",
              "\n",
              "    .dataframe tbody tr th {\n",
              "        vertical-align: top;\n",
              "    }\n",
              "\n",
              "    .dataframe thead th {\n",
              "        text-align: right;\n",
              "    }\n",
              "</style>\n",
              "<table border=\"1\" class=\"dataframe\">\n",
              "  <thead>\n",
              "    <tr style=\"text-align: right;\">\n",
              "      <th></th>\n",
              "      <th>Open</th>\n",
              "      <th>High</th>\n",
              "      <th>Low</th>\n",
              "      <th>Close</th>\n",
              "      <th>Adj Close</th>\n",
              "      <th>Volume</th>\n",
              "    </tr>\n",
              "  </thead>\n",
              "  <tbody>\n",
              "    <tr>\n",
              "      <th>count</th>\n",
              "      <td>4071.000000</td>\n",
              "      <td>4071.000000</td>\n",
              "      <td>4071.000000</td>\n",
              "      <td>4071.000000</td>\n",
              "      <td>4071.000000</td>\n",
              "      <td>4.071000e+03</td>\n",
              "    </tr>\n",
              "    <tr>\n",
              "      <th>mean</th>\n",
              "      <td>26.072933</td>\n",
              "      <td>26.548904</td>\n",
              "      <td>25.565903</td>\n",
              "      <td>26.045171</td>\n",
              "      <td>25.014746</td>\n",
              "      <td>1.296025e+07</td>\n",
              "    </tr>\n",
              "    <tr>\n",
              "      <th>std</th>\n",
              "      <td>16.197583</td>\n",
              "      <td>16.387556</td>\n",
              "      <td>15.998367</td>\n",
              "      <td>16.197287</td>\n",
              "      <td>15.538573</td>\n",
              "      <td>2.163853e+07</td>\n",
              "    </tr>\n",
              "    <tr>\n",
              "      <th>min</th>\n",
              "      <td>1.810000</td>\n",
              "      <td>2.030000</td>\n",
              "      <td>1.450000</td>\n",
              "      <td>1.760000</td>\n",
              "      <td>1.659225</td>\n",
              "      <td>1.385000e+05</td>\n",
              "    </tr>\n",
              "    <tr>\n",
              "      <th>25%</th>\n",
              "      <td>10.405000</td>\n",
              "      <td>10.725000</td>\n",
              "      <td>10.130000</td>\n",
              "      <td>10.320000</td>\n",
              "      <td>9.894393</td>\n",
              "      <td>4.460000e+06</td>\n",
              "    </tr>\n",
              "    <tr>\n",
              "      <th>50%</th>\n",
              "      <td>26.160000</td>\n",
              "      <td>26.660000</td>\n",
              "      <td>25.559999</td>\n",
              "      <td>26.180000</td>\n",
              "      <td>25.160000</td>\n",
              "      <td>7.057600e+06</td>\n",
              "    </tr>\n",
              "    <tr>\n",
              "      <th>75%</th>\n",
              "      <td>40.250000</td>\n",
              "      <td>40.910000</td>\n",
              "      <td>39.619999</td>\n",
              "      <td>40.264999</td>\n",
              "      <td>38.538807</td>\n",
              "      <td>1.138345e+07</td>\n",
              "    </tr>\n",
              "    <tr>\n",
              "      <th>max</th>\n",
              "      <td>62.700001</td>\n",
              "      <td>63.270000</td>\n",
              "      <td>62.000000</td>\n",
              "      <td>62.950001</td>\n",
              "      <td>59.345570</td>\n",
              "      <td>4.286171e+08</td>\n",
              "    </tr>\n",
              "  </tbody>\n",
              "</table>\n",
              "</div>"
            ],
            "text/plain": [
              "              Open         High  ...    Adj Close        Volume\n",
              "count  4071.000000  4071.000000  ...  4071.000000  4.071000e+03\n",
              "mean     26.072933    26.548904  ...    25.014746  1.296025e+07\n",
              "std      16.197583    16.387556  ...    15.538573  2.163853e+07\n",
              "min       1.810000     2.030000  ...     1.659225  1.385000e+05\n",
              "25%      10.405000    10.725000  ...     9.894393  4.460000e+06\n",
              "50%      26.160000    26.660000  ...    25.160000  7.057600e+06\n",
              "75%      40.250000    40.910000  ...    38.538807  1.138345e+07\n",
              "max      62.700001    63.270000  ...    59.345570  4.286171e+08\n",
              "\n",
              "[8 rows x 6 columns]"
            ]
          },
          "metadata": {},
          "execution_count": 20
        }
      ]
    },
    {
      "cell_type": "code",
      "metadata": {
        "colab": {
          "base_uri": "https://localhost:8080/",
          "height": 204
        },
        "id": "HT9TSoM9sJ3l",
        "outputId": "5b6bd13f-c7c3-4b15-ff8e-08e8b5f8ce17"
      },
      "source": [
        "# Overall structure of first five rows and columns of dataset\n",
        "Dataframe.head()"
      ],
      "execution_count": null,
      "outputs": [
        {
          "output_type": "execute_result",
          "data": {
            "text/html": [
              "<div>\n",
              "<style scoped>\n",
              "    .dataframe tbody tr th:only-of-type {\n",
              "        vertical-align: middle;\n",
              "    }\n",
              "\n",
              "    .dataframe tbody tr th {\n",
              "        vertical-align: top;\n",
              "    }\n",
              "\n",
              "    .dataframe thead th {\n",
              "        text-align: right;\n",
              "    }\n",
              "</style>\n",
              "<table border=\"1\" class=\"dataframe\">\n",
              "  <thead>\n",
              "    <tr style=\"text-align: right;\">\n",
              "      <th></th>\n",
              "      <th>Date</th>\n",
              "      <th>Open</th>\n",
              "      <th>High</th>\n",
              "      <th>Low</th>\n",
              "      <th>Close</th>\n",
              "      <th>Adj Close</th>\n",
              "      <th>Volume</th>\n",
              "    </tr>\n",
              "  </thead>\n",
              "  <tbody>\n",
              "    <tr>\n",
              "      <th>0</th>\n",
              "      <td>2005-09-27</td>\n",
              "      <td>21.049999</td>\n",
              "      <td>21.400000</td>\n",
              "      <td>19.100000</td>\n",
              "      <td>19.299999</td>\n",
              "      <td>18.194910</td>\n",
              "      <td>961200</td>\n",
              "    </tr>\n",
              "    <tr>\n",
              "      <th>1</th>\n",
              "      <td>2005-09-28</td>\n",
              "      <td>19.299999</td>\n",
              "      <td>20.530001</td>\n",
              "      <td>19.200001</td>\n",
              "      <td>20.500000</td>\n",
              "      <td>19.326200</td>\n",
              "      <td>5747900</td>\n",
              "    </tr>\n",
              "    <tr>\n",
              "      <th>2</th>\n",
              "      <td>2005-09-29</td>\n",
              "      <td>20.400000</td>\n",
              "      <td>20.580000</td>\n",
              "      <td>20.100000</td>\n",
              "      <td>20.209999</td>\n",
              "      <td>19.052805</td>\n",
              "      <td>1078200</td>\n",
              "    </tr>\n",
              "    <tr>\n",
              "      <th>3</th>\n",
              "      <td>2005-09-30</td>\n",
              "      <td>20.260000</td>\n",
              "      <td>21.049999</td>\n",
              "      <td>20.180000</td>\n",
              "      <td>21.010000</td>\n",
              "      <td>19.807001</td>\n",
              "      <td>3123300</td>\n",
              "    </tr>\n",
              "    <tr>\n",
              "      <th>4</th>\n",
              "      <td>2005-10-03</td>\n",
              "      <td>20.900000</td>\n",
              "      <td>21.750000</td>\n",
              "      <td>20.900000</td>\n",
              "      <td>21.500000</td>\n",
              "      <td>20.268942</td>\n",
              "      <td>1057900</td>\n",
              "    </tr>\n",
              "  </tbody>\n",
              "</table>\n",
              "</div>"
            ],
            "text/plain": [
              "         Date       Open       High        Low      Close  Adj Close   Volume\n",
              "0  2005-09-27  21.049999  21.400000  19.100000  19.299999  18.194910   961200\n",
              "1  2005-09-28  19.299999  20.530001  19.200001  20.500000  19.326200  5747900\n",
              "2  2005-09-29  20.400000  20.580000  20.100000  20.209999  19.052805  1078200\n",
              "3  2005-09-30  20.260000  21.049999  20.180000  21.010000  19.807001  3123300\n",
              "4  2005-10-03  20.900000  21.750000  20.900000  21.500000  20.268942  1057900"
            ]
          },
          "metadata": {},
          "execution_count": 21
        }
      ]
    },
    {
      "cell_type": "code",
      "source": [
        "Dataframe.info()"
      ],
      "metadata": {
        "colab": {
          "base_uri": "https://localhost:8080/"
        },
        "id": "JIOD2tSeLMwL",
        "outputId": "4bc762f3-fb8b-46f5-9f66-9d823fa58019"
      },
      "execution_count": null,
      "outputs": [
        {
          "output_type": "stream",
          "name": "stdout",
          "text": [
            "<class 'pandas.core.frame.DataFrame'>\n",
            "RangeIndex: 4071 entries, 0 to 4070\n",
            "Data columns (total 7 columns):\n",
            " #   Column     Non-Null Count  Dtype  \n",
            "---  ------     --------------  -----  \n",
            " 0   Date       4071 non-null   object \n",
            " 1   Open       4071 non-null   float64\n",
            " 2   High       4071 non-null   float64\n",
            " 3   Low        4071 non-null   float64\n",
            " 4   Close      4071 non-null   float64\n",
            " 5   Adj Close  4071 non-null   float64\n",
            " 6   Volume     4071 non-null   int64  \n",
            "dtypes: float64(5), int64(1), object(1)\n",
            "memory usage: 222.8+ KB\n"
          ]
        }
      ]
    },
    {
      "cell_type": "code",
      "source": [
        "#Create a new column called year\n",
        "Dataframe['Year'] = pd.DatetimeIndex(Dataframe['Date']).year"
      ],
      "metadata": {
        "id": "p00IJwPgNUzX"
      },
      "execution_count": null,
      "outputs": []
    },
    {
      "cell_type": "code",
      "source": [
        "#Display results\n",
        "Dataframe"
      ],
      "metadata": {
        "colab": {
          "base_uri": "https://localhost:8080/",
          "height": 419
        },
        "id": "lK_GQr1TNyTD",
        "outputId": "c7fd6cef-763c-466e-8c22-e9dca25f3be8"
      },
      "execution_count": null,
      "outputs": [
        {
          "output_type": "execute_result",
          "data": {
            "text/html": [
              "<div>\n",
              "<style scoped>\n",
              "    .dataframe tbody tr th:only-of-type {\n",
              "        vertical-align: middle;\n",
              "    }\n",
              "\n",
              "    .dataframe tbody tr th {\n",
              "        vertical-align: top;\n",
              "    }\n",
              "\n",
              "    .dataframe thead th {\n",
              "        text-align: right;\n",
              "    }\n",
              "</style>\n",
              "<table border=\"1\" class=\"dataframe\">\n",
              "  <thead>\n",
              "    <tr style=\"text-align: right;\">\n",
              "      <th></th>\n",
              "      <th>Date</th>\n",
              "      <th>Open</th>\n",
              "      <th>High</th>\n",
              "      <th>Low</th>\n",
              "      <th>Close</th>\n",
              "      <th>Adj Close</th>\n",
              "      <th>Volume</th>\n",
              "      <th>Year</th>\n",
              "    </tr>\n",
              "  </thead>\n",
              "  <tbody>\n",
              "    <tr>\n",
              "      <th>0</th>\n",
              "      <td>2005-09-27</td>\n",
              "      <td>21.049999</td>\n",
              "      <td>21.400000</td>\n",
              "      <td>19.100000</td>\n",
              "      <td>19.299999</td>\n",
              "      <td>18.194910</td>\n",
              "      <td>961200</td>\n",
              "      <td>2005</td>\n",
              "    </tr>\n",
              "    <tr>\n",
              "      <th>1</th>\n",
              "      <td>2005-09-28</td>\n",
              "      <td>19.299999</td>\n",
              "      <td>20.530001</td>\n",
              "      <td>19.200001</td>\n",
              "      <td>20.500000</td>\n",
              "      <td>19.326200</td>\n",
              "      <td>5747900</td>\n",
              "      <td>2005</td>\n",
              "    </tr>\n",
              "    <tr>\n",
              "      <th>2</th>\n",
              "      <td>2005-09-29</td>\n",
              "      <td>20.400000</td>\n",
              "      <td>20.580000</td>\n",
              "      <td>20.100000</td>\n",
              "      <td>20.209999</td>\n",
              "      <td>19.052805</td>\n",
              "      <td>1078200</td>\n",
              "      <td>2005</td>\n",
              "    </tr>\n",
              "    <tr>\n",
              "      <th>3</th>\n",
              "      <td>2005-09-30</td>\n",
              "      <td>20.260000</td>\n",
              "      <td>21.049999</td>\n",
              "      <td>20.180000</td>\n",
              "      <td>21.010000</td>\n",
              "      <td>19.807001</td>\n",
              "      <td>3123300</td>\n",
              "      <td>2005</td>\n",
              "    </tr>\n",
              "    <tr>\n",
              "      <th>4</th>\n",
              "      <td>2005-10-03</td>\n",
              "      <td>20.900000</td>\n",
              "      <td>21.750000</td>\n",
              "      <td>20.900000</td>\n",
              "      <td>21.500000</td>\n",
              "      <td>20.268942</td>\n",
              "      <td>1057900</td>\n",
              "      <td>2005</td>\n",
              "    </tr>\n",
              "    <tr>\n",
              "      <th>...</th>\n",
              "      <td>...</td>\n",
              "      <td>...</td>\n",
              "      <td>...</td>\n",
              "      <td>...</td>\n",
              "      <td>...</td>\n",
              "      <td>...</td>\n",
              "      <td>...</td>\n",
              "      <td>...</td>\n",
              "    </tr>\n",
              "    <tr>\n",
              "      <th>4066</th>\n",
              "      <td>2021-11-19</td>\n",
              "      <td>19.139999</td>\n",
              "      <td>19.440001</td>\n",
              "      <td>18.940001</td>\n",
              "      <td>19.280001</td>\n",
              "      <td>19.280001</td>\n",
              "      <td>31196100</td>\n",
              "      <td>2021</td>\n",
              "    </tr>\n",
              "    <tr>\n",
              "      <th>4067</th>\n",
              "      <td>2021-11-22</td>\n",
              "      <td>19.559999</td>\n",
              "      <td>19.760000</td>\n",
              "      <td>19.049999</td>\n",
              "      <td>19.629999</td>\n",
              "      <td>19.629999</td>\n",
              "      <td>33220600</td>\n",
              "      <td>2021</td>\n",
              "    </tr>\n",
              "    <tr>\n",
              "      <th>4068</th>\n",
              "      <td>2021-11-23</td>\n",
              "      <td>19.750000</td>\n",
              "      <td>20.139999</td>\n",
              "      <td>19.320000</td>\n",
              "      <td>19.469999</td>\n",
              "      <td>19.469999</td>\n",
              "      <td>30427300</td>\n",
              "      <td>2021</td>\n",
              "    </tr>\n",
              "    <tr>\n",
              "      <th>4069</th>\n",
              "      <td>2021-11-24</td>\n",
              "      <td>19.330000</td>\n",
              "      <td>19.549999</td>\n",
              "      <td>19.070000</td>\n",
              "      <td>19.459999</td>\n",
              "      <td>19.459999</td>\n",
              "      <td>21323300</td>\n",
              "      <td>2021</td>\n",
              "    </tr>\n",
              "    <tr>\n",
              "      <th>4070</th>\n",
              "      <td>2021-11-26</td>\n",
              "      <td>18.270000</td>\n",
              "      <td>18.270000</td>\n",
              "      <td>16.900000</td>\n",
              "      <td>17.750000</td>\n",
              "      <td>17.750000</td>\n",
              "      <td>84177500</td>\n",
              "      <td>2021</td>\n",
              "    </tr>\n",
              "  </tbody>\n",
              "</table>\n",
              "<p>4071 rows × 8 columns</p>\n",
              "</div>"
            ],
            "text/plain": [
              "            Date       Open       High  ...  Adj Close    Volume  Year\n",
              "0     2005-09-27  21.049999  21.400000  ...  18.194910    961200  2005\n",
              "1     2005-09-28  19.299999  20.530001  ...  19.326200   5747900  2005\n",
              "2     2005-09-29  20.400000  20.580000  ...  19.052805   1078200  2005\n",
              "3     2005-09-30  20.260000  21.049999  ...  19.807001   3123300  2005\n",
              "4     2005-10-03  20.900000  21.750000  ...  20.268942   1057900  2005\n",
              "...          ...        ...        ...  ...        ...       ...   ...\n",
              "4066  2021-11-19  19.139999  19.440001  ...  19.280001  31196100  2021\n",
              "4067  2021-11-22  19.559999  19.760000  ...  19.629999  33220600  2021\n",
              "4068  2021-11-23  19.750000  20.139999  ...  19.469999  30427300  2021\n",
              "4069  2021-11-24  19.330000  19.549999  ...  19.459999  21323300  2021\n",
              "4070  2021-11-26  18.270000  18.270000  ...  17.750000  84177500  2021\n",
              "\n",
              "[4071 rows x 8 columns]"
            ]
          },
          "metadata": {},
          "execution_count": 24
        }
      ]
    },
    {
      "cell_type": "code",
      "source": [
        "#Calculate the the Opening average for each year \n",
        "AA_monthly_avg = Dataframe.groupby('Year').Close.mean()"
      ],
      "metadata": {
        "id": "f8ro3ivSKOwp"
      },
      "execution_count": null,
      "outputs": []
    },
    {
      "cell_type": "code",
      "source": [
        "AA_monthly_avg"
      ],
      "metadata": {
        "colab": {
          "base_uri": "https://localhost:8080/"
        },
        "id": "L7_chaEeKk2J",
        "outputId": "20d83979-dd88-489c-dc7e-7137f7deb499"
      },
      "execution_count": null,
      "outputs": [
        {
          "output_type": "execute_result",
          "data": {
            "text/plain": [
              "Year\n",
              "2005    29.068507\n",
              "2006    44.322390\n",
              "2007    35.671952\n",
              "2008     7.742134\n",
              "2009     3.829643\n",
              "2010     8.636667\n",
              "2011     7.459841\n",
              "2012    10.496160\n",
              "2013    18.187936\n",
              "2014    38.923651\n",
              "2015    45.122103\n",
              "2016    38.183849\n",
              "2017    47.490717\n",
              "2018    42.801952\n",
              "2019    30.879326\n",
              "2020    15.280395\n",
              "2021    20.628596\n",
              "Name: Close, dtype: float64"
            ]
          },
          "metadata": {},
          "execution_count": 26
        }
      ]
    },
    {
      "cell_type": "code",
      "source": [
        "plt.plot(AA_monthly_avg,\"-o\",color='#FFA500',label='Year')\n",
        "\n",
        "#Plot the title to the chart\n",
        "plt.title('Averages by Year')\n",
        "ax = plt.gca()\n",
        "ax.set_xlabel('Year')\n",
        "ax.set_ylabel('Closing of Stock')\n",
        "\n",
        "#Adding a legend\n",
        "plt.legend()\n",
        "plt.show()"
      ],
      "metadata": {
        "colab": {
          "base_uri": "https://localhost:8080/",
          "height": 295
        },
        "id": "vFX6NFzVU9OS",
        "outputId": "de773e83-aea4-4c9f-c4bb-6ab8048afae2"
      },
      "execution_count": null,
      "outputs": [
        {
          "output_type": "display_data",
          "data": {
            "image/png": "[encoded data removed]",
            "text/plain": [
              "<Figure size 432x288 with 1 Axes>"
            ]
          },
          "metadata": {
            "needs_background": "light"
          }
        }
      ]
    },
    {
      "cell_type": "code",
      "source": [
        "def helper_fun(predictor,Dataframe):\n",
        "  model = stats.linregress(Dataframe[predictor], Dataframe['Year'])\n",
        "  print(\"r2\",model.rvalue**2)\n",
        "  print(\"p value\",model.pvalue)\n",
        " \n",
        "  plt.plot(Dataframe[predictor], Dataframe['Year'], 'o', label='original data')\n",
        "  plt.plot(Dataframe[predictor], model.intercept + model.slope*Dataframe[predictor], 'r', label='fitted line')\n",
        "  plt.legend()\n",
        "  plt.title(f'regressing Year and {predictor}')\n",
        "  plt.xlabel(predictor)\n",
        "  plt.ylabel('Year')\n",
        "  plt.show()"
      ],
      "metadata": {
        "id": "4s0Bqco8bxqk"
      },
      "execution_count": null,
      "outputs": []
    },
    {
      "cell_type": "code",
      "source": [
        "helper_fun('Open',Dataframe)"
      ],
      "metadata": {
        "colab": {
          "base_uri": "https://localhost:8080/",
          "height": 329
        },
        "id": "Da_DixNvb6AH",
        "outputId": "684d10b1-635f-4694-95c0-3a9a3c36c6d6"
      },
      "execution_count": null,
      "outputs": [
        {
          "output_type": "stream",
          "name": "stdout",
          "text": [
            "r2 0.04702461847937936\n",
            "p value 1.5869100226518902e-44\n"
          ]
        },
        {
          "output_type": "display_data",
          "data": {
            "image/png": "[encoded data removed]",
            "text/plain": [
              "<Figure size 432x288 with 1 Axes>"
            ]
          },
          "metadata": {
            "needs_background": "light"
          }
        }
      ]
    },
    {
      "cell_type": "code",
      "source": [
        "helper_fun('Volume',Dataframe)"
      ],
      "metadata": {
        "colab": {
          "base_uri": "https://localhost:8080/",
          "height": 329
        },
        "id": "SkcOK2mwcgUK",
        "outputId": "e37eba28-0d85-43a0-d6b6-12e0a9a2f3be"
      },
      "execution_count": null,
      "outputs": [
        {
          "output_type": "stream",
          "name": "stdout",
          "text": [
            "r2 0.18107300039166951\n",
            "p value 9.227843651633384e-179\n"
          ]
        },
        {
          "output_type": "display_data",
          "data": {
            "image/png": "[encoded data removed]",
            "text/plain": [
              "<Figure size 432x288 with 1 Axes>"
            ]
          },
          "metadata": {
            "needs_background": "light"
          }
        }
      ]
    },
    {
      "cell_type": "markdown",
      "source": [
        "## **S&P Global, Inc.**\n",
        "S&P Global, Inc. engages in the provision of transparent and independent ratings, benchmarks, analytics and data to the capital and commodity markets worldwide. It operates through the following segments: Ratings, Market Intelligence, Platts and Indices. The Ratings segment offers credit ratings, research, and analytics to investors, issuers, and other market participants. The Market Intelligence provides multi-asset-class data, research and analytical capabilities, which integrate cross-asset analytics and desktop services. The Platts segment includes information and benchmark prices for the commodity and energy markets. The Indices segment provides variety of valuation and index benchmarks for investment advisors, wealth managers and institutional investors. The company was founded by James H. McGraw and John A. Hill in 1917 and is headquartered in New York, NY.\n",
        "\n",
        "-CNN Business"
      ],
      "metadata": {
        "id": "TARNQb62rUa-"
      }
    },
    {
      "cell_type": "code",
      "source": [
        "SnP_Dataframe = pd.read_csv('/content/drive/MyDrive/data_sets/SnP.csv',encoding = \"ISO-8859-1\")"
      ],
      "metadata": {
        "id": "CZI5e7hMn2Rn"
      },
      "execution_count": null,
      "outputs": []
    },
    {
      "cell_type": "code",
      "source": [
        "SnP_Dataframe.info()"
      ],
      "metadata": {
        "colab": {
          "base_uri": "https://localhost:8080/"
        },
        "id": "6DHybhYfn-EN",
        "outputId": "fef077fe-5ce3-46fb-d3db-e62c540e1ae7"
      },
      "execution_count": null,
      "outputs": [
        {
          "output_type": "stream",
          "name": "stdout",
          "text": [
            "<class 'pandas.core.frame.DataFrame'>\n",
            "RangeIndex: 619040 entries, 0 to 619039\n",
            "Data columns (total 7 columns):\n",
            " #   Column  Non-Null Count   Dtype  \n",
            "---  ------  --------------   -----  \n",
            " 0   date    619040 non-null  object \n",
            " 1   open    619029 non-null  float64\n",
            " 2   high    619032 non-null  float64\n",
            " 3   low     619032 non-null  float64\n",
            " 4   close   619040 non-null  float64\n",
            " 5   volume  619040 non-null  int64  \n",
            " 6   Name    619040 non-null  object \n",
            "dtypes: float64(4), int64(1), object(2)\n",
            "memory usage: 33.1+ MB\n"
          ]
        }
      ]
    },
    {
      "cell_type": "code",
      "source": [
        "SnP_Dataframe.head()"
      ],
      "metadata": {
        "colab": {
          "base_uri": "https://localhost:8080/",
          "height": 204
        },
        "id": "_fZsvurEoBl6",
        "outputId": "2fc7802c-9315-48fd-a2ea-e4da342c57d2"
      },
      "execution_count": null,
      "outputs": [
        {
          "output_type": "execute_result",
          "data": {
            "text/html": [
              "<div>\n",
              "<style scoped>\n",
              "    .dataframe tbody tr th:only-of-type {\n",
              "        vertical-align: middle;\n",
              "    }\n",
              "\n",
              "    .dataframe tbody tr th {\n",
              "        vertical-align: top;\n",
              "    }\n",
              "\n",
              "    .dataframe thead th {\n",
              "        text-align: right;\n",
              "    }\n",
              "</style>\n",
              "<table border=\"1\" class=\"dataframe\">\n",
              "  <thead>\n",
              "    <tr style=\"text-align: right;\">\n",
              "      <th></th>\n",
              "      <th>date</th>\n",
              "      <th>open</th>\n",
              "      <th>high</th>\n",
              "      <th>low</th>\n",
              "      <th>close</th>\n",
              "      <th>volume</th>\n",
              "      <th>Name</th>\n",
              "    </tr>\n",
              "  </thead>\n",
              "  <tbody>\n",
              "    <tr>\n",
              "      <th>0</th>\n",
              "      <td>2013-02-08</td>\n",
              "      <td>15.07</td>\n",
              "      <td>15.12</td>\n",
              "      <td>14.63</td>\n",
              "      <td>14.75</td>\n",
              "      <td>8407500</td>\n",
              "      <td>AAL</td>\n",
              "    </tr>\n",
              "    <tr>\n",
              "      <th>1</th>\n",
              "      <td>2013-02-11</td>\n",
              "      <td>14.89</td>\n",
              "      <td>15.01</td>\n",
              "      <td>14.26</td>\n",
              "      <td>14.46</td>\n",
              "      <td>8882000</td>\n",
              "      <td>AAL</td>\n",
              "    </tr>\n",
              "    <tr>\n",
              "      <th>2</th>\n",
              "      <td>2013-02-12</td>\n",
              "      <td>14.45</td>\n",
              "      <td>14.51</td>\n",
              "      <td>14.10</td>\n",
              "      <td>14.27</td>\n",
              "      <td>8126000</td>\n",
              "      <td>AAL</td>\n",
              "    </tr>\n",
              "    <tr>\n",
              "      <th>3</th>\n",
              "      <td>2013-02-13</td>\n",
              "      <td>14.30</td>\n",
              "      <td>14.94</td>\n",
              "      <td>14.25</td>\n",
              "      <td>14.66</td>\n",
              "      <td>10259500</td>\n",
              "      <td>AAL</td>\n",
              "    </tr>\n",
              "    <tr>\n",
              "      <th>4</th>\n",
              "      <td>2013-02-14</td>\n",
              "      <td>14.94</td>\n",
              "      <td>14.96</td>\n",
              "      <td>13.16</td>\n",
              "      <td>13.99</td>\n",
              "      <td>31879900</td>\n",
              "      <td>AAL</td>\n",
              "    </tr>\n",
              "  </tbody>\n",
              "</table>\n",
              "</div>"
            ],
            "text/plain": [
              "         date   open   high    low  close    volume Name\n",
              "0  2013-02-08  15.07  15.12  14.63  14.75   8407500  AAL\n",
              "1  2013-02-11  14.89  15.01  14.26  14.46   8882000  AAL\n",
              "2  2013-02-12  14.45  14.51  14.10  14.27   8126000  AAL\n",
              "3  2013-02-13  14.30  14.94  14.25  14.66  10259500  AAL\n",
              "4  2013-02-14  14.94  14.96  13.16  13.99  31879900  AAL"
            ]
          },
          "metadata": {},
          "execution_count": 33
        }
      ]
    },
    {
      "cell_type": "code",
      "source": [
        "SnP_Dataframe.describe()"
      ],
      "metadata": {
        "colab": {
          "base_uri": "https://localhost:8080/",
          "height": 297
        },
        "id": "mz8bebEInJoc",
        "outputId": "865a5fd9-dbfd-4285-f7e5-76f32ee2269f"
      },
      "execution_count": null,
      "outputs": [
        {
          "output_type": "execute_result",
          "data": {
            "text/html": [
              "<div>\n",
              "<style scoped>\n",
              "    .dataframe tbody tr th:only-of-type {\n",
              "        vertical-align: middle;\n",
              "    }\n",
              "\n",
              "    .dataframe tbody tr th {\n",
              "        vertical-align: top;\n",
              "    }\n",
              "\n",
              "    .dataframe thead th {\n",
              "        text-align: right;\n",
              "    }\n",
              "</style>\n",
              "<table border=\"1\" class=\"dataframe\">\n",
              "  <thead>\n",
              "    <tr style=\"text-align: right;\">\n",
              "      <th></th>\n",
              "      <th>open</th>\n",
              "      <th>high</th>\n",
              "      <th>low</th>\n",
              "      <th>close</th>\n",
              "      <th>volume</th>\n",
              "    </tr>\n",
              "  </thead>\n",
              "  <tbody>\n",
              "    <tr>\n",
              "      <th>count</th>\n",
              "      <td>619029.000000</td>\n",
              "      <td>619032.000000</td>\n",
              "      <td>619032.000000</td>\n",
              "      <td>619040.000000</td>\n",
              "      <td>6.190400e+05</td>\n",
              "    </tr>\n",
              "    <tr>\n",
              "      <th>mean</th>\n",
              "      <td>83.023334</td>\n",
              "      <td>83.778311</td>\n",
              "      <td>82.256096</td>\n",
              "      <td>83.043763</td>\n",
              "      <td>4.321823e+06</td>\n",
              "    </tr>\n",
              "    <tr>\n",
              "      <th>std</th>\n",
              "      <td>97.378769</td>\n",
              "      <td>98.207519</td>\n",
              "      <td>96.507421</td>\n",
              "      <td>97.389748</td>\n",
              "      <td>8.693610e+06</td>\n",
              "    </tr>\n",
              "    <tr>\n",
              "      <th>min</th>\n",
              "      <td>1.620000</td>\n",
              "      <td>1.690000</td>\n",
              "      <td>1.500000</td>\n",
              "      <td>1.590000</td>\n",
              "      <td>0.000000e+00</td>\n",
              "    </tr>\n",
              "    <tr>\n",
              "      <th>25%</th>\n",
              "      <td>40.220000</td>\n",
              "      <td>40.620000</td>\n",
              "      <td>39.830000</td>\n",
              "      <td>40.245000</td>\n",
              "      <td>1.070320e+06</td>\n",
              "    </tr>\n",
              "    <tr>\n",
              "      <th>50%</th>\n",
              "      <td>62.590000</td>\n",
              "      <td>63.150000</td>\n",
              "      <td>62.020000</td>\n",
              "      <td>62.620000</td>\n",
              "      <td>2.082094e+06</td>\n",
              "    </tr>\n",
              "    <tr>\n",
              "      <th>75%</th>\n",
              "      <td>94.370000</td>\n",
              "      <td>95.180000</td>\n",
              "      <td>93.540000</td>\n",
              "      <td>94.410000</td>\n",
              "      <td>4.284509e+06</td>\n",
              "    </tr>\n",
              "    <tr>\n",
              "      <th>max</th>\n",
              "      <td>2044.000000</td>\n",
              "      <td>2067.990000</td>\n",
              "      <td>2035.110000</td>\n",
              "      <td>2049.000000</td>\n",
              "      <td>6.182376e+08</td>\n",
              "    </tr>\n",
              "  </tbody>\n",
              "</table>\n",
              "</div>"
            ],
            "text/plain": [
              "                open           high            low          close        volume\n",
              "count  619029.000000  619032.000000  619032.000000  619040.000000  6.190400e+05\n",
              "mean       83.023334      83.778311      82.256096      83.043763  4.321823e+06\n",
              "std        97.378769      98.207519      96.507421      97.389748  8.693610e+06\n",
              "min         1.620000       1.690000       1.500000       1.590000  0.000000e+00\n",
              "25%        40.220000      40.620000      39.830000      40.245000  1.070320e+06\n",
              "50%        62.590000      63.150000      62.020000      62.620000  2.082094e+06\n",
              "75%        94.370000      95.180000      93.540000      94.410000  4.284509e+06\n",
              "max      2044.000000    2067.990000    2035.110000    2049.000000  6.182376e+08"
            ]
          },
          "metadata": {},
          "execution_count": 34
        }
      ]
    },
    {
      "cell_type": "code",
      "source": [
        "#Display only S&P Global Inc Stock\n",
        "SPGI_Stock = SnP_Dataframe[SnP_Dataframe['Name'] == 'SPGI']"
      ],
      "metadata": {
        "id": "INzrFRekoFd-"
      },
      "execution_count": null,
      "outputs": []
    },
    {
      "cell_type": "code",
      "source": [
        "#Create a new column called year\n",
        "SPGI_Stock['Year'] = pd.DatetimeIndex(SPGI_Stock['date']).year"
      ],
      "metadata": {
        "id": "ycXzX_VKph0z"
      },
      "execution_count": null,
      "outputs": []
    },
    {
      "cell_type": "code",
      "source": [
        "SPGI_Stock"
      ],
      "metadata": {
        "colab": {
          "base_uri": "https://localhost:8080/",
          "height": 419
        },
        "id": "lxgRNEiEpnix",
        "outputId": "85d5777b-dde3-4c18-81e3-5777cebc47eb"
      },
      "execution_count": null,
      "outputs": [
        {
          "output_type": "execute_result",
          "data": {
            "text/html": [
              "<div>\n",
              "<style scoped>\n",
              "    .dataframe tbody tr th:only-of-type {\n",
              "        vertical-align: middle;\n",
              "    }\n",
              "\n",
              "    .dataframe tbody tr th {\n",
              "        vertical-align: top;\n",
              "    }\n",
              "\n",
              "    .dataframe thead th {\n",
              "        text-align: right;\n",
              "    }\n",
              "</style>\n",
              "<table border=\"1\" class=\"dataframe\">\n",
              "  <thead>\n",
              "    <tr style=\"text-align: right;\">\n",
              "      <th></th>\n",
              "      <th>date</th>\n",
              "      <th>open</th>\n",
              "      <th>high</th>\n",
              "      <th>low</th>\n",
              "      <th>close</th>\n",
              "      <th>volume</th>\n",
              "      <th>Name</th>\n",
              "      <th>Year</th>\n",
              "    </tr>\n",
              "  </thead>\n",
              "  <tbody>\n",
              "    <tr>\n",
              "      <th>514519</th>\n",
              "      <td>2013-02-08</td>\n",
              "      <td>43.92</td>\n",
              "      <td>43.960</td>\n",
              "      <td>42.07</td>\n",
              "      <td>42.67</td>\n",
              "      <td>7888705</td>\n",
              "      <td>SPGI</td>\n",
              "      <td>2013</td>\n",
              "    </tr>\n",
              "    <tr>\n",
              "      <th>514520</th>\n",
              "      <td>2013-02-11</td>\n",
              "      <td>42.79</td>\n",
              "      <td>44.690</td>\n",
              "      <td>42.52</td>\n",
              "      <td>44.28</td>\n",
              "      <td>9586165</td>\n",
              "      <td>SPGI</td>\n",
              "      <td>2013</td>\n",
              "    </tr>\n",
              "    <tr>\n",
              "      <th>514521</th>\n",
              "      <td>2013-02-12</td>\n",
              "      <td>43.67</td>\n",
              "      <td>45.160</td>\n",
              "      <td>43.63</td>\n",
              "      <td>44.03</td>\n",
              "      <td>6457410</td>\n",
              "      <td>SPGI</td>\n",
              "      <td>2013</td>\n",
              "    </tr>\n",
              "    <tr>\n",
              "      <th>514522</th>\n",
              "      <td>2013-02-13</td>\n",
              "      <td>44.19</td>\n",
              "      <td>44.500</td>\n",
              "      <td>43.91</td>\n",
              "      <td>44.33</td>\n",
              "      <td>5095137</td>\n",
              "      <td>SPGI</td>\n",
              "      <td>2013</td>\n",
              "    </tr>\n",
              "    <tr>\n",
              "      <th>514523</th>\n",
              "      <td>2013-02-14</td>\n",
              "      <td>44.14</td>\n",
              "      <td>45.000</td>\n",
              "      <td>44.07</td>\n",
              "      <td>44.86</td>\n",
              "      <td>5003102</td>\n",
              "      <td>SPGI</td>\n",
              "      <td>2013</td>\n",
              "    </tr>\n",
              "    <tr>\n",
              "      <th>...</th>\n",
              "      <td>...</td>\n",
              "      <td>...</td>\n",
              "      <td>...</td>\n",
              "      <td>...</td>\n",
              "      <td>...</td>\n",
              "      <td>...</td>\n",
              "      <td>...</td>\n",
              "      <td>...</td>\n",
              "    </tr>\n",
              "    <tr>\n",
              "      <th>515773</th>\n",
              "      <td>2018-02-01</td>\n",
              "      <td>180.40</td>\n",
              "      <td>182.980</td>\n",
              "      <td>179.42</td>\n",
              "      <td>182.00</td>\n",
              "      <td>1102148</td>\n",
              "      <td>SPGI</td>\n",
              "      <td>2018</td>\n",
              "    </tr>\n",
              "    <tr>\n",
              "      <th>515774</th>\n",
              "      <td>2018-02-02</td>\n",
              "      <td>181.55</td>\n",
              "      <td>181.860</td>\n",
              "      <td>177.31</td>\n",
              "      <td>177.33</td>\n",
              "      <td>1118848</td>\n",
              "      <td>SPGI</td>\n",
              "      <td>2018</td>\n",
              "    </tr>\n",
              "    <tr>\n",
              "      <th>515775</th>\n",
              "      <td>2018-02-05</td>\n",
              "      <td>177.04</td>\n",
              "      <td>178.415</td>\n",
              "      <td>164.99</td>\n",
              "      <td>166.36</td>\n",
              "      <td>2508170</td>\n",
              "      <td>SPGI</td>\n",
              "      <td>2018</td>\n",
              "    </tr>\n",
              "    <tr>\n",
              "      <th>515776</th>\n",
              "      <td>2018-02-06</td>\n",
              "      <td>165.95</td>\n",
              "      <td>181.000</td>\n",
              "      <td>165.94</td>\n",
              "      <td>179.96</td>\n",
              "      <td>5582527</td>\n",
              "      <td>SPGI</td>\n",
              "      <td>2018</td>\n",
              "    </tr>\n",
              "    <tr>\n",
              "      <th>515777</th>\n",
              "      <td>2018-02-07</td>\n",
              "      <td>179.79</td>\n",
              "      <td>185.380</td>\n",
              "      <td>175.02</td>\n",
              "      <td>182.69</td>\n",
              "      <td>2406019</td>\n",
              "      <td>SPGI</td>\n",
              "      <td>2018</td>\n",
              "    </tr>\n",
              "  </tbody>\n",
              "</table>\n",
              "<p>1259 rows × 8 columns</p>\n",
              "</div>"
            ],
            "text/plain": [
              "              date    open     high     low   close   volume  Name  Year\n",
              "514519  2013-02-08   43.92   43.960   42.07   42.67  7888705  SPGI  2013\n",
              "514520  2013-02-11   42.79   44.690   42.52   44.28  9586165  SPGI  2013\n",
              "514521  2013-02-12   43.67   45.160   43.63   44.03  6457410  SPGI  2013\n",
              "514522  2013-02-13   44.19   44.500   43.91   44.33  5095137  SPGI  2013\n",
              "514523  2013-02-14   44.14   45.000   44.07   44.86  5003102  SPGI  2013\n",
              "...            ...     ...      ...     ...     ...      ...   ...   ...\n",
              "515773  2018-02-01  180.40  182.980  179.42  182.00  1102148  SPGI  2018\n",
              "515774  2018-02-02  181.55  181.860  177.31  177.33  1118848  SPGI  2018\n",
              "515775  2018-02-05  177.04  178.415  164.99  166.36  2508170  SPGI  2018\n",
              "515776  2018-02-06  165.95  181.000  165.94  179.96  5582527  SPGI  2018\n",
              "515777  2018-02-07  179.79  185.380  175.02  182.69  2406019  SPGI  2018\n",
              "\n",
              "[1259 rows x 8 columns]"
            ]
          },
          "metadata": {},
          "execution_count": 37
        }
      ]
    },
    {
      "cell_type": "code",
      "source": [
        "#Calculate the the Opening average for each year \n",
        "SnP_monthly_avg = SPGI_Stock.groupby('Year').close.mean()"
      ],
      "metadata": {
        "id": "GMp7dx6mqUri"
      },
      "execution_count": null,
      "outputs": []
    },
    {
      "cell_type": "code",
      "source": [
        "SnP_monthly_avg"
      ],
      "metadata": {
        "colab": {
          "base_uri": "https://localhost:8080/"
        },
        "id": "YRQ6cngBqiwt",
        "outputId": "8ebb6209-081c-44db-bf7e-f5620e92f680"
      },
      "execution_count": null,
      "outputs": [
        {
          "output_type": "execute_result",
          "data": {
            "text/plain": [
              "Year\n",
              "2013     59.797699\n",
              "2014     81.847937\n",
              "2015     98.955198\n",
              "2016    108.832857\n",
              "2017    144.673765\n",
              "2018    178.045769\n",
              "Name: close, dtype: float64"
            ]
          },
          "metadata": {},
          "execution_count": 39
        }
      ]
    },
    {
      "cell_type": "code",
      "source": [
        "#AA_monthly_avg.drop(labels=[2005,2006,2007,2008,2009,2010,2011,2012,2019,2020,2021], axis=0)\n",
        "AA_monthly_avg.drop([2005,2006,2007,2008,2009,2010,2011,2012,2019,2020,2021], axis=0, inplace = True)"
      ],
      "metadata": {
        "id": "F9ZtOazAszVa"
      },
      "execution_count": null,
      "outputs": []
    },
    {
      "cell_type": "code",
      "source": [
        "AA_monthly_avg.shape"
      ],
      "metadata": {
        "colab": {
          "base_uri": "https://localhost:8080/"
        },
        "id": "EvJXTAWgvwmW",
        "outputId": "f9db904d-d72f-4986-95a9-b73630e2c3c3"
      },
      "execution_count": null,
      "outputs": [
        {
          "output_type": "execute_result",
          "data": {
            "text/plain": [
              "(6,)"
            ]
          },
          "metadata": {},
          "execution_count": 41
        }
      ]
    },
    {
      "cell_type": "code",
      "source": [
        "SnP_monthly_avg"
      ],
      "metadata": {
        "colab": {
          "base_uri": "https://localhost:8080/"
        },
        "id": "-Plf2BT3t-FS",
        "outputId": "9b1f1c09-78d0-48b8-ad3c-7ad9513679df"
      },
      "execution_count": null,
      "outputs": [
        {
          "output_type": "execute_result",
          "data": {
            "text/plain": [
              "Year\n",
              "2013     59.797699\n",
              "2014     81.847937\n",
              "2015     98.955198\n",
              "2016    108.832857\n",
              "2017    144.673765\n",
              "2018    178.045769\n",
              "Name: close, dtype: float64"
            ]
          },
          "metadata": {},
          "execution_count": 42
        }
      ]
    },
    {
      "cell_type": "code",
      "source": [
        "SnP_monthly_avg.shape"
      ],
      "metadata": {
        "colab": {
          "base_uri": "https://localhost:8080/"
        },
        "id": "q4o5AvuPvzV2",
        "outputId": "954b7605-c63c-4d40-810c-aa67db0b5e02"
      },
      "execution_count": null,
      "outputs": [
        {
          "output_type": "execute_result",
          "data": {
            "text/plain": [
              "(6,)"
            ]
          },
          "metadata": {},
          "execution_count": 43
        }
      ]
    },
    {
      "cell_type": "code",
      "source": [
        "plt.plot(AA_monthly_avg,\"-o\",color='#FFA500',label='American Airlines')\n",
        "plt.plot(SnP_monthly_avg,\"-<\",color='#008000',label='S&P Global Inc')\n",
        "\n",
        "#Plot the title to the chart\n",
        "plt.title('American Airlines and SnP Global Monthly Averages by Year')\n",
        "ax = plt.gca()\n",
        "ax.set_xlabel('Year')\n",
        "ax.set_ylabel('Closing of Stocks')\n",
        "\n",
        "#Adding a legend\n",
        "plt.legend()\n",
        "plt.show()"
      ],
      "metadata": {
        "colab": {
          "base_uri": "https://localhost:8080/",
          "height": 295
        },
        "id": "Yl6wKlqixXjn",
        "outputId": "045f0124-f647-4a83-fda9-baab6dd93c13"
      },
      "execution_count": null,
      "outputs": [
        {
          "output_type": "display_data",
          "data": {
            "image/png": "[encoded data removed]",
            "text/plain": [
              "<Figure size 432x288 with 1 Axes>"
            ]
          },
          "metadata": {
            "needs_background": "light"
          }
        }
      ]
    },
    {
      "cell_type": "code",
      "source": [
        "#calculate the correlation between the two arrays\n",
        "np.corrcoef(AA_monthly_avg, SnP_monthly_avg)[0,1]"
      ],
      "metadata": {
        "colab": {
          "base_uri": "https://localhost:8080/"
        },
        "id": "5DF6U8ogr5TV",
        "outputId": "1a9e916c-672d-4aec-a38f-66c72425813c"
      },
      "execution_count": null,
      "outputs": [
        {
          "output_type": "execute_result",
          "data": {
            "text/plain": [
              "0.6792952097677315"
            ]
          },
          "metadata": {},
          "execution_count": 45
        }
      ]
    }
  ]
}